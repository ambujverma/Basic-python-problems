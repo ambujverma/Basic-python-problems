{
 "cells": [
  {
   "cell_type": "code",
   "execution_count": 18,
   "metadata": {},
   "outputs": [
    {
     "name": "stdout",
     "output_type": "stream",
     "text": [
      "Type name to check: sar\n",
      "you are not enrolled\n"
     ]
    }
   ],
   "source": [
    "list_of_students = [\"Michele\", \"Sara\", \"Cassie\"]\n",
    "\n",
    "name = input(\"Type name to check: \")\n",
    "if name in list_of_students:\n",
    "        print(\"This student is enrolled.\")\n",
    "else:\n",
    "        print(\"you are not enrolled\")\n",
    "        \n"
   ]
  },
  {
   "cell_type": "code",
   "execution_count": 3,
   "metadata": {},
   "outputs": [
    {
     "name": "stdout",
     "output_type": "stream",
     "text": [
      "enter a word to pelindrome\n",
      ">>>nitin \n",
      "your word is not pelindrome\n"
     ]
    }
   ],
   "source": [
    "a = str(input(\"enter a word to pelindrome\" +\"\\n\" +\">>>\")).lower()\n",
    "\n",
    "\n",
    "\n",
    "rvs=a[::-1]\n",
    "if a==rvs:\n",
    "    print(\"your word is pelindrome\" )\n",
    "else:\n",
    "    print(\"your word is not pelindrome\")"
   ]
  },
  {
   "cell_type": "code",
   "execution_count": null,
   "metadata": {},
   "outputs": [],
   "source": []
  }
 ],
 "metadata": {
  "kernelspec": {
   "display_name": "Python 3",
   "language": "python",
   "name": "python3"
  },
  "language_info": {
   "codemirror_mode": {
    "name": "ipython",
    "version": 3
   },
   "file_extension": ".py",
   "mimetype": "text/x-python",
   "name": "python",
   "nbconvert_exporter": "python",
   "pygments_lexer": "ipython3",
   "version": "3.6.4"
  }
 },
 "nbformat": 4,
 "nbformat_minor": 2
}
