{
 "cells": [
  {
   "cell_type": "code",
   "execution_count": 56,
   "metadata": {},
   "outputs": [],
   "source": [
    "import pandas as pd\n",
    "df = pd.read_csv(\"50-contacts.csv\")"
   ]
  },
  {
   "cell_type": "code",
   "execution_count": 73,
   "metadata": {},
   "outputs": [
    {
     "data": {
      "text/html": [
       "<div>\n",
       "<style scoped>\n",
       "    .dataframe tbody tr th:only-of-type {\n",
       "        vertical-align: middle;\n",
       "    }\n",
       "\n",
       "    .dataframe tbody tr th {\n",
       "        vertical-align: top;\n",
       "    }\n",
       "\n",
       "    .dataframe thead th {\n",
       "        text-align: right;\n",
       "    }\n",
       "</style>\n",
       "<table border=\"1\" class=\"dataframe\">\n",
       "  <thead>\n",
       "    <tr style=\"text-align: right;\">\n",
       "      <th></th>\n",
       "      <th>first_name</th>\n",
       "      <th>last_name</th>\n",
       "      <th>company_name</th>\n",
       "      <th>address</th>\n",
       "      <th>city</th>\n",
       "      <th>county</th>\n",
       "      <th>state</th>\n",
       "      <th>zip</th>\n",
       "      <th>phone1</th>\n",
       "      <th>phone</th>\n",
       "      <th>email</th>\n",
       "    </tr>\n",
       "  </thead>\n",
       "  <tbody>\n",
       "    <tr>\n",
       "      <th>0</th>\n",
       "      <td>James</td>\n",
       "      <td>Butt</td>\n",
       "      <td>Benton, John B Jr</td>\n",
       "      <td>6649 N Blue Gum St</td>\n",
       "      <td>New Orleans</td>\n",
       "      <td>Orleans</td>\n",
       "      <td>LA</td>\n",
       "      <td>70116</td>\n",
       "      <td>504-621-8927</td>\n",
       "      <td>504-845-1427</td>\n",
       "      <td>jbutt@gmail.com</td>\n",
       "    </tr>\n",
       "    <tr>\n",
       "      <th>1</th>\n",
       "      <td>Josephine</td>\n",
       "      <td>Darakjy</td>\n",
       "      <td>Chanay, Jeffrey A Esq</td>\n",
       "      <td>4 B Blue Ridge Blvd</td>\n",
       "      <td>Brighton</td>\n",
       "      <td>Livingston</td>\n",
       "      <td>MI</td>\n",
       "      <td>48116</td>\n",
       "      <td>810-292-9388</td>\n",
       "      <td>810-374-9840</td>\n",
       "      <td>josephine_darakjy@darakjy.org</td>\n",
       "    </tr>\n",
       "    <tr>\n",
       "      <th>2</th>\n",
       "      <td>Art</td>\n",
       "      <td>Venere</td>\n",
       "      <td>Chemel, James L Cpa</td>\n",
       "      <td>8 W Cerritos Ave #54</td>\n",
       "      <td>Bridgeport</td>\n",
       "      <td>Gloucester</td>\n",
       "      <td>NJ</td>\n",
       "      <td>8014</td>\n",
       "      <td>856-636-8749</td>\n",
       "      <td>856-264-4130</td>\n",
       "      <td>art@venere.org</td>\n",
       "    </tr>\n",
       "    <tr>\n",
       "      <th>3</th>\n",
       "      <td>Lenna</td>\n",
       "      <td>Paprocki</td>\n",
       "      <td>Feltz Printing Service</td>\n",
       "      <td>639 Main St</td>\n",
       "      <td>Anchorage</td>\n",
       "      <td>Anchorage</td>\n",
       "      <td>AK</td>\n",
       "      <td>99501</td>\n",
       "      <td>907-385-4412</td>\n",
       "      <td>907-921-2010</td>\n",
       "      <td>lpaprocki@hotmail.com</td>\n",
       "    </tr>\n",
       "    <tr>\n",
       "      <th>4</th>\n",
       "      <td>Donette</td>\n",
       "      <td>Foller</td>\n",
       "      <td>Printing Dimensions</td>\n",
       "      <td>34 Center St</td>\n",
       "      <td>Hamilton</td>\n",
       "      <td>Butler</td>\n",
       "      <td>OH</td>\n",
       "      <td>45011</td>\n",
       "      <td>513-570-1893</td>\n",
       "      <td>513-549-4561</td>\n",
       "      <td>donette.foller@cox.net</td>\n",
       "    </tr>\n",
       "  </tbody>\n",
       "</table>\n",
       "</div>"
      ],
      "text/plain": [
       "  first_name last_name            company_name               address  \\\n",
       "0      James      Butt       Benton, John B Jr    6649 N Blue Gum St   \n",
       "1  Josephine   Darakjy   Chanay, Jeffrey A Esq   4 B Blue Ridge Blvd   \n",
       "2        Art    Venere     Chemel, James L Cpa  8 W Cerritos Ave #54   \n",
       "3      Lenna  Paprocki  Feltz Printing Service           639 Main St   \n",
       "4    Donette    Foller     Printing Dimensions          34 Center St   \n",
       "\n",
       "          city      county state    zip        phone1         phone  \\\n",
       "0  New Orleans     Orleans    LA  70116  504-621-8927  504-845-1427   \n",
       "1     Brighton  Livingston    MI  48116  810-292-9388  810-374-9840   \n",
       "2   Bridgeport  Gloucester    NJ   8014  856-636-8749  856-264-4130   \n",
       "3    Anchorage   Anchorage    AK  99501  907-385-4412  907-921-2010   \n",
       "4     Hamilton      Butler    OH  45011  513-570-1893  513-549-4561   \n",
       "\n",
       "                           email  \n",
       "0                jbutt@gmail.com  \n",
       "1  josephine_darakjy@darakjy.org  \n",
       "2                 art@venere.org  \n",
       "3          lpaprocki@hotmail.com  \n",
       "4         donette.foller@cox.net  "
      ]
     },
     "execution_count": 73,
     "metadata": {},
     "output_type": "execute_result"
    }
   ],
   "source": [
    "newdf=df.head(5)\n",
    "newdf"
   ]
  },
  {
   "cell_type": "code",
   "execution_count": 49,
   "metadata": {},
   "outputs": [],
   "source": [
    "#df['zip'].max()"
   ]
  },
  {
   "cell_type": "code",
   "execution_count": 50,
   "metadata": {},
   "outputs": [],
   "source": [
    "#df.describe()"
   ]
  },
  {
   "cell_type": "code",
   "execution_count": 51,
   "metadata": {},
   "outputs": [],
   "source": [
    "#df.set_index('first_name')# index will change into firt name coloubmn"
   ]
  },
  {
   "cell_type": "code",
   "execution_count": 52,
   "metadata": {},
   "outputs": [],
   "source": [
    "#skiprows,header are same as work\n",
    "#df=pd.read_csv(\"50-contacts.csv\" ,header=1)\n"
   ]
  },
  {
   "cell_type": "code",
   "execution_count": 74,
   "metadata": {},
   "outputs": [
    {
     "data": {
      "text/plain": [
       "<pandas.core.groupby.DataFrameGroupBy object at 0x0000016250DA7908>"
      ]
     },
     "execution_count": 74,
     "metadata": {},
     "output_type": "execute_result"
    }
   ],
   "source": [
    "# this is for grouping similar data in a group \n",
    "g=newdf.groupby('city')\n",
    "g"
   ]
  },
  {
   "cell_type": "code",
   "execution_count": 77,
   "metadata": {},
   "outputs": [
    {
     "name": "stdout",
     "output_type": "stream",
     "text": [
      "Anchorage\n",
      "  first_name last_name            company_name      address       city  \\\n",
      "3      Lenna  Paprocki  Feltz Printing Service  639 Main St  Anchorage   \n",
      "\n",
      "      county state    zip        phone1         phone                  email  \n",
      "3  Anchorage    AK  99501  907-385-4412  907-921-2010  lpaprocki@hotmail.com  \n",
      "Bridgeport\n",
      "  first_name last_name         company_name               address        city  \\\n",
      "2        Art    Venere  Chemel, James L Cpa  8 W Cerritos Ave #54  Bridgeport   \n",
      "\n",
      "       county state   zip        phone1         phone           email  \n",
      "2  Gloucester    NJ  8014  856-636-8749  856-264-4130  art@venere.org  \n",
      "Brighton\n",
      "  first_name last_name           company_name              address      city  \\\n",
      "1  Josephine   Darakjy  Chanay, Jeffrey A Esq  4 B Blue Ridge Blvd  Brighton   \n",
      "\n",
      "       county state    zip        phone1         phone  \\\n",
      "1  Livingston    MI  48116  810-292-9388  810-374-9840   \n",
      "\n",
      "                           email  \n",
      "1  josephine_darakjy@darakjy.org  \n",
      "Hamilton\n",
      "  first_name last_name         company_name       address      city  county  \\\n",
      "4    Donette    Foller  Printing Dimensions  34 Center St  Hamilton  Butler   \n",
      "\n",
      "  state    zip        phone1         phone                   email  \n",
      "4    OH  45011  513-570-1893  513-549-4561  donette.foller@cox.net  \n",
      "New Orleans\n",
      "  first_name last_name       company_name             address         city  \\\n",
      "0      James      Butt  Benton, John B Jr  6649 N Blue Gum St  New Orleans   \n",
      "\n",
      "    county state    zip        phone1         phone            email  \n",
      "0  Orleans    LA  70116  504-621-8927  504-845-1427  jbutt@gmail.com  \n"
     ]
    }
   ],
   "source": [
    "for city,x in g:\n",
    "    print(city)\n",
    "    print(x)"
   ]
  },
  {
   "cell_type": "code",
   "execution_count": 81,
   "metadata": {},
   "outputs": [
    {
     "data": {
      "text/html": [
       "<div>\n",
       "<style scoped>\n",
       "    .dataframe tbody tr th:only-of-type {\n",
       "        vertical-align: middle;\n",
       "    }\n",
       "\n",
       "    .dataframe tbody tr th {\n",
       "        vertical-align: top;\n",
       "    }\n",
       "\n",
       "    .dataframe thead th {\n",
       "        text-align: right;\n",
       "    }\n",
       "</style>\n",
       "<table border=\"1\" class=\"dataframe\">\n",
       "  <thead>\n",
       "    <tr style=\"text-align: right;\">\n",
       "      <th></th>\n",
       "      <th>first_name</th>\n",
       "      <th>last_name</th>\n",
       "      <th>company_name</th>\n",
       "      <th>address</th>\n",
       "      <th>city</th>\n",
       "      <th>county</th>\n",
       "      <th>state</th>\n",
       "      <th>zip</th>\n",
       "      <th>phone1</th>\n",
       "      <th>phone</th>\n",
       "      <th>email</th>\n",
       "    </tr>\n",
       "  </thead>\n",
       "  <tbody>\n",
       "    <tr>\n",
       "      <th>3</th>\n",
       "      <td>Lenna</td>\n",
       "      <td>Paprocki</td>\n",
       "      <td>Feltz Printing Service</td>\n",
       "      <td>639 Main St</td>\n",
       "      <td>Anchorage</td>\n",
       "      <td>Anchorage</td>\n",
       "      <td>AK</td>\n",
       "      <td>99501</td>\n",
       "      <td>907-385-4412</td>\n",
       "      <td>907-921-2010</td>\n",
       "      <td>lpaprocki@hotmail.com</td>\n",
       "    </tr>\n",
       "  </tbody>\n",
       "</table>\n",
       "</div>"
      ],
      "text/plain": [
       "  first_name last_name            company_name      address       city  \\\n",
       "3      Lenna  Paprocki  Feltz Printing Service  639 Main St  Anchorage   \n",
       "\n",
       "      county state    zip        phone1         phone                  email  \n",
       "3  Anchorage    AK  99501  907-385-4412  907-921-2010  lpaprocki@hotmail.com  "
      ]
     },
     "execution_count": 81,
     "metadata": {},
     "output_type": "execute_result"
    }
   ],
   "source": [
    "g.get_group('Anchorage')"
   ]
  },
  {
   "cell_type": "code",
   "execution_count": 82,
   "metadata": {},
   "outputs": [
    {
     "data": {
      "text/html": [
       "<div>\n",
       "<style scoped>\n",
       "    .dataframe tbody tr th:only-of-type {\n",
       "        vertical-align: middle;\n",
       "    }\n",
       "\n",
       "    .dataframe tbody tr th {\n",
       "        vertical-align: top;\n",
       "    }\n",
       "\n",
       "    .dataframe thead th {\n",
       "        text-align: right;\n",
       "    }\n",
       "</style>\n",
       "<table border=\"1\" class=\"dataframe\">\n",
       "  <thead>\n",
       "    <tr style=\"text-align: right;\">\n",
       "      <th></th>\n",
       "      <th>zip</th>\n",
       "    </tr>\n",
       "    <tr>\n",
       "      <th>city</th>\n",
       "      <th></th>\n",
       "    </tr>\n",
       "  </thead>\n",
       "  <tbody>\n",
       "    <tr>\n",
       "      <th>Anchorage</th>\n",
       "      <td>99501</td>\n",
       "    </tr>\n",
       "    <tr>\n",
       "      <th>Bridgeport</th>\n",
       "      <td>8014</td>\n",
       "    </tr>\n",
       "    <tr>\n",
       "      <th>Brighton</th>\n",
       "      <td>48116</td>\n",
       "    </tr>\n",
       "    <tr>\n",
       "      <th>Hamilton</th>\n",
       "      <td>45011</td>\n",
       "    </tr>\n",
       "    <tr>\n",
       "      <th>New Orleans</th>\n",
       "      <td>70116</td>\n",
       "    </tr>\n",
       "  </tbody>\n",
       "</table>\n",
       "</div>"
      ],
      "text/plain": [
       "               zip\n",
       "city              \n",
       "Anchorage    99501\n",
       "Bridgeport    8014\n",
       "Brighton     48116\n",
       "Hamilton     45011\n",
       "New Orleans  70116"
      ]
     },
     "execution_count": 82,
     "metadata": {},
     "output_type": "execute_result"
    }
   ],
   "source": [
    "g.mean()"
   ]
  },
  {
   "cell_type": "code",
   "execution_count": 83,
   "metadata": {},
   "outputs": [
    {
     "data": {
      "text/html": [
       "<div>\n",
       "<style scoped>\n",
       "    .dataframe tbody tr th:only-of-type {\n",
       "        vertical-align: middle;\n",
       "    }\n",
       "\n",
       "    .dataframe tbody tr th {\n",
       "        vertical-align: top;\n",
       "    }\n",
       "\n",
       "    .dataframe thead tr th {\n",
       "        text-align: left;\n",
       "    }\n",
       "\n",
       "    .dataframe thead tr:last-of-type th {\n",
       "        text-align: right;\n",
       "    }\n",
       "</style>\n",
       "<table border=\"1\" class=\"dataframe\">\n",
       "  <thead>\n",
       "    <tr>\n",
       "      <th></th>\n",
       "      <th colspan=\"8\" halign=\"left\">zip</th>\n",
       "    </tr>\n",
       "    <tr>\n",
       "      <th></th>\n",
       "      <th>count</th>\n",
       "      <th>mean</th>\n",
       "      <th>std</th>\n",
       "      <th>min</th>\n",
       "      <th>25%</th>\n",
       "      <th>50%</th>\n",
       "      <th>75%</th>\n",
       "      <th>max</th>\n",
       "    </tr>\n",
       "    <tr>\n",
       "      <th>city</th>\n",
       "      <th></th>\n",
       "      <th></th>\n",
       "      <th></th>\n",
       "      <th></th>\n",
       "      <th></th>\n",
       "      <th></th>\n",
       "      <th></th>\n",
       "      <th></th>\n",
       "    </tr>\n",
       "  </thead>\n",
       "  <tbody>\n",
       "    <tr>\n",
       "      <th>Anchorage</th>\n",
       "      <td>1.0</td>\n",
       "      <td>99501.0</td>\n",
       "      <td>NaN</td>\n",
       "      <td>99501.0</td>\n",
       "      <td>99501.0</td>\n",
       "      <td>99501.0</td>\n",
       "      <td>99501.0</td>\n",
       "      <td>99501.0</td>\n",
       "    </tr>\n",
       "    <tr>\n",
       "      <th>Bridgeport</th>\n",
       "      <td>1.0</td>\n",
       "      <td>8014.0</td>\n",
       "      <td>NaN</td>\n",
       "      <td>8014.0</td>\n",
       "      <td>8014.0</td>\n",
       "      <td>8014.0</td>\n",
       "      <td>8014.0</td>\n",
       "      <td>8014.0</td>\n",
       "    </tr>\n",
       "    <tr>\n",
       "      <th>Brighton</th>\n",
       "      <td>1.0</td>\n",
       "      <td>48116.0</td>\n",
       "      <td>NaN</td>\n",
       "      <td>48116.0</td>\n",
       "      <td>48116.0</td>\n",
       "      <td>48116.0</td>\n",
       "      <td>48116.0</td>\n",
       "      <td>48116.0</td>\n",
       "    </tr>\n",
       "    <tr>\n",
       "      <th>Hamilton</th>\n",
       "      <td>1.0</td>\n",
       "      <td>45011.0</td>\n",
       "      <td>NaN</td>\n",
       "      <td>45011.0</td>\n",
       "      <td>45011.0</td>\n",
       "      <td>45011.0</td>\n",
       "      <td>45011.0</td>\n",
       "      <td>45011.0</td>\n",
       "    </tr>\n",
       "    <tr>\n",
       "      <th>New Orleans</th>\n",
       "      <td>1.0</td>\n",
       "      <td>70116.0</td>\n",
       "      <td>NaN</td>\n",
       "      <td>70116.0</td>\n",
       "      <td>70116.0</td>\n",
       "      <td>70116.0</td>\n",
       "      <td>70116.0</td>\n",
       "      <td>70116.0</td>\n",
       "    </tr>\n",
       "  </tbody>\n",
       "</table>\n",
       "</div>"
      ],
      "text/plain": [
       "              zip                                                          \n",
       "            count     mean std      min      25%      50%      75%      max\n",
       "city                                                                       \n",
       "Anchorage     1.0  99501.0 NaN  99501.0  99501.0  99501.0  99501.0  99501.0\n",
       "Bridgeport    1.0   8014.0 NaN   8014.0   8014.0   8014.0   8014.0   8014.0\n",
       "Brighton      1.0  48116.0 NaN  48116.0  48116.0  48116.0  48116.0  48116.0\n",
       "Hamilton      1.0  45011.0 NaN  45011.0  45011.0  45011.0  45011.0  45011.0\n",
       "New Orleans   1.0  70116.0 NaN  70116.0  70116.0  70116.0  70116.0  70116.0"
      ]
     },
     "execution_count": 83,
     "metadata": {},
     "output_type": "execute_result"
    }
   ],
   "source": [
    "g.describe()"
   ]
  },
  {
   "cell_type": "code",
   "execution_count": 84,
   "metadata": {},
   "outputs": [
    {
     "data": {
      "text/plain": [
       "city\n",
       "Anchorage      AxesSubplot(0.125,0.125;0.775x0.755)\n",
       "Bridgeport     AxesSubplot(0.125,0.125;0.775x0.755)\n",
       "Brighton       AxesSubplot(0.125,0.125;0.775x0.755)\n",
       "Hamilton       AxesSubplot(0.125,0.125;0.775x0.755)\n",
       "New Orleans    AxesSubplot(0.125,0.125;0.775x0.755)\n",
       "dtype: object"
      ]
     },
     "execution_count": 84,
     "metadata": {},
     "output_type": "execute_result"
    },
    {
     "data": {
      "image/png": "[encoded data removed]",
      "text/plain": [
       "<matplotlib.figure.Figure at 0x1624de85240>"
      ]
     },
     "metadata": {},
     "output_type": "display_data"
    },
    {
     "data": {
      "image/png": "[encoded data removed]",
      "text/plain": [
       "<matplotlib.figure.Figure at 0x16251e93080>"
      ]
     },
     "metadata": {},
     "output_type": "display_data"
    },
    {
     "data": {
      "image/png": "[encoded data removed]",
      "text/plain": [
       "<matplotlib.figure.Figure at 0x16251f19ac8>"
      ]
     },
     "metadata": {},
     "output_type": "display_data"
    },
    {
     "data": {
      "image/png": "[encoded data removed]",
      "text/plain": [
       "<matplotlib.figure.Figure at 0x16251f44be0>"
      ]
     },
     "metadata": {},
     "output_type": "display_data"
    },
    {
     "data": {
      "image/png": "[encoded data removed]",
      "text/plain": [
       "<matplotlib.figure.Figure at 0x16251fadbe0>"
      ]
     },
     "metadata": {},
     "output_type": "display_data"
    }
   ],
   "source": [
    "#ploting the curve b/w the changes in objects\n",
    "%matplotlib inline\n",
    "g.plot()\n"
   ]
  },
  {
   "cell_type": "markdown",
   "metadata": {},
   "source": [
    "g.describe()"
   ]
  }
 ],
 "metadata": {
  "kernelspec": {
   "display_name": "Python 3",
   "language": "python",
   "name": "python3"
  },
  "language_info": {
   "codemirror_mode": {
    "name": "ipython",
    "version": 3
   },
   "file_extension": ".py",
   "mimetype": "text/x-python",
   "name": "python",
   "nbconvert_exporter": "python",
   "pygments_lexer": "ipython3",
   "version": "3.6.4"
  }
 },
 "nbformat": 4,
 "nbformat_minor": 2
}
