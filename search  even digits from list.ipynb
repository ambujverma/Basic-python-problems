{
 "cells": [
  {
   "cell_type": "code",
   "execution_count": 32,
   "metadata": {},
   "outputs": [
    {
     "name": "stdout",
     "output_type": "stream",
     "text": [
      "[4, 16, 36, 64, 100]\n",
      "even numers of list a\n",
      "[1, 4, 9, 16, 25, 36, 49, 64, 81, 100]\n"
     ]
    }
   ],
   "source": [
    "a = [1, 4, 9, 16, 25, 36, 49, 64, 81, 100]\n",
    "c=[]\n",
    "for i in a:\n",
    "    if i%2==0:\n",
    "        c.append(i)\n",
    "print(c)\n",
    "print(\"even numers of list a\")\n",
    "print(a)      \n"
   ]
  },
  {
   "cell_type": "code",
   "execution_count": 9,
   "metadata": {},
   "outputs": [
    {
     "name": "stdout",
     "output_type": "stream",
     "text": [
      "[7, 4, 10, 8, 9, 4, 9, 10, 8, 7, 4]\n",
      "[4, 10, 8, 4, 10, 8, 4]\n"
     ]
    }
   ],
   "source": [
    "import random\n",
    "\n",
    "numlist = []\n",
    "list_length = random.randint(5,15)\n",
    "\n",
    "\n",
    "while len(numlist) < list_length:\n",
    "    numlist.append(random.randint(1,10))\n",
    "    \n",
    "\n",
    "evenlist = [number for number in numlist if number % 2 == 0] \n",
    "\n",
    "print(numlist)\n",
    "print(evenlist)\n"
   ]
  },
  {
   "cell_type": "code",
   "execution_count": null,
   "metadata": {},
   "outputs": [],
   "source": []
  }
 ],
 "metadata": {
  "kernelspec": {
   "display_name": "Python 3",
   "language": "python",
   "name": "python3"
  },
  "language_info": {
   "codemirror_mode": {
    "name": "ipython",
    "version": 3
   },
   "file_extension": ".py",
   "mimetype": "text/x-python",
   "name": "python",
   "nbconvert_exporter": "python",
   "pygments_lexer": "ipython3",
   "version": "3.6.4"
  }
 },
 "nbformat": 4,
 "nbformat_minor": 2
}
