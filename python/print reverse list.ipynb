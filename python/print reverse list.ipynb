{
 "cells": [
  {
   "cell_type": "code",
   "execution_count": 2,
   "metadata": {},
   "outputs": [
    {
     "name": "stdout",
     "output_type": "stream",
     "text": [
      "1 1 1 4 5 8 8 8 5 5 3 9\n",
      "[9, 8, 8, 8, 5, 5, 5, 4, 3, 1, 1, 1]\n"
     ]
    }
   ],
   "source": [
    "import math\n",
    "import os\n",
    "import random\n",
    "import re\n",
    "import sys\n",
    "\n",
    "\n",
    "def miniMaxSum(arr):\n",
    "    arr.sort(reverse=True)\n",
    "    print(arr)\n",
    "    \n",
    "if __name__ == '__main__':\n",
    "    arr = list(map(int, input().rstrip().split()))\n",
    "\n",
    "    miniMaxSum(arr)"
   ]
  },
  {
   "cell_type": "code",
   "execution_count": 3,
   "metadata": {},
   "outputs": [
    {
     "name": "stdout",
     "output_type": "stream",
     "text": [
      "[9, 8, 6, 5, 4, 3, 2, 1]\n"
     ]
    }
   ],
   "source": [
    "a=[1,3,2,5,6,4,8,9]\n",
    "a.sort(reverse=True)\n",
    "print(a)"
   ]
  },
  {
   "cell_type": "code",
   "execution_count": null,
   "metadata": {},
   "outputs": [],
   "source": []
  }
 ],
 "metadata": {
  "kernelspec": {
   "display_name": "Python 3",
   "language": "python",
   "name": "python3"
  },
  "language_info": {
   "codemirror_mode": {
    "name": "ipython",
    "version": 3
   },
   "file_extension": ".py",
   "mimetype": "text/x-python",
   "name": "python",
   "nbconvert_exporter": "python",
   "pygments_lexer": "ipython3",
   "version": "3.6.4"
  }
 },
 "nbformat": 4,
 "nbformat_minor": 2
}
