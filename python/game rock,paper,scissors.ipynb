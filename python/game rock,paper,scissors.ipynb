{
 "cells": [
  {
   "cell_type": "code",
   "execution_count": 1,
   "metadata": {},
   "outputs": [
    {
     "name": "stdout",
     "output_type": "stream",
     "text": [
      "1st player's name :arvind\n",
      "2nd player's name :ambuj\n",
      "arvind <<< do you want to choose (rock, paper and scissors) :>>>scissors\n",
      "ambuj <<< do you want to choose (rock, paper and scissors) :>>>paper\n",
      "arvind >> (scissors) wins\n"
     ]
    }
   ],
   "source": [
    "import sys\n",
    "\n",
    "user_1 =input(\"1st player's name :\")\n",
    "\n",
    "user_2 =input(\"2nd player's name :\")\n",
    "\n",
    "user1_answer = input(\"%s <<< do you want to choose (rock, paper and scissors) :>>>\"%user_1)\n",
    "user2_answer = input(\"%s <<< do you want to choose (rock, paper and scissors) :>>>\"%user_2)\n",
    "\n",
    "def campare(u1,u_1,u2,u_2):\n",
    "        if u1==u2:\n",
    "            return(\"game tie\")\n",
    "        elif u1== 'rock':\n",
    "            if u2=='scissors':\n",
    "                return(\"%s >> (rock) wins\"%u_1)\n",
    "            else:\n",
    "                return(\"%s >> (paper) wins\"%u_2)\n",
    "        elif u1=='paper':\n",
    "            if u2=='rock':\n",
    "                return(\"%s >> (paper) wins\"%u_1)\n",
    "            else:\n",
    "                return(\"%s >> (scissors) wins\"%u_2)\n",
    "        elif u1=='scissors':\n",
    "            if u2=='paper':\n",
    "                return(\"%s >> (scissors) wins\"%u_1)\n",
    "            else:\n",
    "                return(\"%s >> (rock) wins\"%u_2)\n",
    "        else:\n",
    "            return(\"invalid input\")\n",
    "            sys.exit()\n",
    "       \n",
    "           \n",
    "print(campare(user1_answer,user_1,user2_answer,user_2))\n"
   ]
  },
  {
   "cell_type": "code",
   "execution_count": null,
   "metadata": {},
   "outputs": [],
   "source": []
  }
 ],
 "metadata": {
  "kernelspec": {
   "display_name": "Python 3",
   "language": "python",
   "name": "python3"
  },
  "language_info": {
   "codemirror_mode": {
    "name": "ipython",
    "version": 3
   },
   "file_extension": ".py",
   "mimetype": "text/x-python",
   "name": "python",
   "nbconvert_exporter": "python",
   "pygments_lexer": "ipython3",
   "version": "3.6.4"
  }
 },
 "nbformat": 4,
 "nbformat_minor": 2
}
