{
 "cells": [
  {
   "cell_type": "code",
   "execution_count": 1,
   "metadata": {},
   "outputs": [
    {
     "name": "stdout",
     "output_type": "stream",
     "text": [
      "enter a number: 45\n",
      "[1, 3, 5, 9, 15, 45]\n"
     ]
    }
   ],
   "source": [
    "\n",
    "\n",
    "def divisor():\n",
    "    num = int(input(\"enter a number: \"))\n",
    "    listRange = (range(1,num+1))\n",
    "\n",
    "    divisorlist =[]\n",
    "              \n",
    "    for i in  listRange:\n",
    "              \n",
    "        if num % i == 0:\n",
    "            divisorlist.append(i)\n",
    "                \n",
    "    print(divisorlist)\n",
    "\n",
    "    \n",
    "divisor()            "
   ]
  },
  {
   "cell_type": "code",
   "execution_count": 13,
   "metadata": {},
   "outputs": [
    {
     "name": "stdout",
     "output_type": "stream",
     "text": [
      "enter a number: 52\n",
      "[1, 2, 4, 13, 26, 52]\n"
     ]
    }
   ],
   "source": [
    "divisor()"
   ]
  },
  {
   "cell_type": "code",
   "execution_count": 14,
   "metadata": {},
   "outputs": [
    {
     "name": "stdout",
     "output_type": "stream",
     "text": [
      "enter a number: 85\n",
      "[1, 5, 17, 85]\n"
     ]
    }
   ],
   "source": [
    "divisor()"
   ]
  },
  {
   "cell_type": "code",
   "execution_count": null,
   "metadata": {},
   "outputs": [],
   "source": []
  }
 ],
 "metadata": {
  "kernelspec": {
   "display_name": "Python 3",
   "language": "python",
   "name": "python3"
  },
  "language_info": {
   "codemirror_mode": {
    "name": "ipython",
    "version": 3
   },
   "file_extension": ".py",
   "mimetype": "text/x-python",
   "name": "python",
   "nbconvert_exporter": "python",
   "pygments_lexer": "ipython3",
   "version": "3.6.4"
  }
 },
 "nbformat": 4,
 "nbformat_minor": 2
}
