{
 "cells": [
  {
   "cell_type": "code",
   "execution_count": 5,
   "metadata": {
    "slideshow": {
     "slide_type": "subslide"
    }
   },
   "outputs": [
    {
     "name": "stdout",
     "output_type": "stream",
     "text": [
      "emter a number for checking prime or not 10\n"
     ]
    },
    {
     "ename": "SystemExit",
     "evalue": "the number is not prime",
     "output_type": "error",
     "traceback": [
      "An exception has occurred, use %tb to see the full traceback.\n",
      "\u001b[1;31mSystemExit\u001b[0m\u001b[1;31m:\u001b[0m the number is not prime\n"
     ]
    },
    {
     "name": "stderr",
     "output_type": "stream",
     "text": [
      "C:\\Users\\ambuj verma\\Anaconda3\\lib\\site-packages\\IPython\\core\\interactiveshell.py:2918: UserWarning: To exit: use 'exit', 'quit', or Ctrl-D.\n",
      "  warn(\"To exit: use 'exit', 'quit', or Ctrl-D.\", stacklevel=1)\n"
     ]
    }
   ],
   "source": [
    "import sys\n",
    "\n",
    "number = input(\"emter a number for checking prime or not !\"+\"\\n\"+\">>>\")\n",
    "number = int(number)\n",
    "prime = False\n",
    "\n",
    "\n",
    "if number >0:\n",
    "    for a in range(2,number - 1):\n",
    "        if number%a!=0:\n",
    "            continue\n",
    "        elif number %a==0:\n",
    "                sys.exit(\"the number is not prime\")\n",
    "\n",
    "    sys.exit(\"the number is prime\")\n",
    "\n",
    "elif number==0:\n",
    "    print(\"not prime\")\n",
    "else:\n",
    "    print(\"not prime\")"
   ]
  },
  {
   "cell_type": "code",
   "execution_count": 5,
   "metadata": {},
   "outputs": [
    {
     "name": "stdout",
     "output_type": "stream",
     "text": [
      "Please enter a number\n",
      ">>>12\n",
      "0The number is not prime.\n",
      "0The number is not prime.\n",
      "0The number is not prime.\n",
      "0The number is not prime.\n",
      "1The number is prime.\n"
     ]
    }
   ],
   "source": [
    "import sys\n",
    "number = input(\"Please enter a number\" + \"\\n\" + \">>>\")\n",
    "number = int(number)\n",
    " \n",
    "if number > 0:\n",
    "    for x in range (2, number -1 ):\n",
    "        if number % x != 0: \n",
    "            continue \n",
    "        elif number % x == 0: \n",
    "            sys.exit(\"0The number is not prime.\")\n",
    "    sys.exit(\"1The number is prime.\")\n",
    "elif number == 0:\n",
    "    sys.exit(\"2The number is not prime.\")\n",
    "else:\n",
    "    sys.exit(\"3The number is not prime.\")"
   ]
  },
  {
   "cell_type": "code",
   "execution_count": 3,
   "metadata": {},
   "outputs": [
    {
     "name": "stdout",
     "output_type": "stream",
     "text": [
      "Insert a number: 97\n",
      "prime\n",
      "[]\n"
     ]
    }
   ],
   "source": [
    "num = int(input('Insert a number: '))\n",
    "a = [x for x in range(2, num-1) if num % x == 0]\n",
    "\n",
    "def is_prime():\n",
    "\tif num > 1:\n",
    "\t\tif len(a) == 0:\n",
    "\t\t\tprint ('prime')\n",
    "\t\telse:\n",
    "\t\t    print ('NOT prime')\n",
    "\telse:\n",
    "\t\tprint('NOT prime') \n",
    "\t\n",
    "is_prime()\n",
    "print(a)"
   ]
  },
  {
   "cell_type": "code",
   "execution_count": 11,
   "metadata": {},
   "outputs": [
    {
     "name": "stdout",
     "output_type": "stream",
     "text": [
      "enter here lower range1\n",
      "enter here upper range10\n",
      "2\n",
      "3\n",
      "5\n",
      "7\n",
      "9\n"
     ]
    }
   ],
   "source": [
    "# find all prime number btw the range\n",
    "import math\n",
    "num1= int(input('enter here lower range'))\n",
    "num2=int(input('enter here upper range'))\n",
    "if num1==1 or num2==2:\n",
    "    print(2)\n",
    "\n",
    "for i in range(num1,num2+1):\n",
    "    for x in range(2,i):\n",
    "        if i%x==0:\n",
    "            break\n",
    "        else:\n",
    "            print(i)\n",
    "            break\n",
    "           "
   ]
  },
  {
   "cell_type": "code",
   "execution_count": null,
   "metadata": {},
   "outputs": [],
   "source": [
    "3511 ^ 3671 ^ 4153"
   ]
  },
  {
   "cell_type": "code",
   "execution_count": null,
   "metadata": {},
   "outputs": [],
   "source": []
  }
 ],
 "metadata": {
  "kernelspec": {
   "display_name": "Python 3",
   "language": "python",
   "name": "python3"
  },
  "language_info": {
   "codemirror_mode": {
    "name": "ipython",
    "version": 3
   },
   "file_extension": ".py",
   "mimetype": "text/x-python",
   "name": "python",
   "nbconvert_exporter": "python",
   "pygments_lexer": "ipython3",
   "version": "3.6.4"
  }
 },
 "nbformat": 4,
 "nbformat_minor": 2
}
