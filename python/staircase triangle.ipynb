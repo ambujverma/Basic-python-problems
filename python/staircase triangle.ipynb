{
 "cells": [
  {
   "cell_type": "code",
   "execution_count": null,
   "metadata": {},
   "outputs": [],
   "source": [
    "def staircase():\n",
    "    n =int(input('how many staircase you want to print'))\n",
    "    \n",
    "    n1=n-1\n",
    "    i=1\n",
    "    for i in range(1,n):\n",
    "         print(' '*(n1-i),'#' ' '*i)\n",
    "            \n",
    "    print('#' ' '*n)\n",
    "    \n",
    "\n",
    "    \n",
    "    \n",
    "staircase()\n",
    "        \n"
   ]
  },
  {
   "cell_type": "code",
   "execution_count": null,
   "metadata": {},
   "outputs": [],
   "source": []
  },
  {
   "cell_type": "code",
   "execution_count": null,
   "metadata": {},
   "outputs": [],
   "source": []
  }
 ],
 "metadata": {
  "kernelspec": {
   "display_name": "Python 3",
   "language": "python",
   "name": "python3"
  },
  "language_info": {
   "codemirror_mode": {
    "name": "ipython",
    "version": 3
   },
   "file_extension": ".py",
   "mimetype": "text/x-python",
   "name": "python",
   "nbconvert_exporter": "python",
   "pygments_lexer": "ipython3",
   "version": "3.6.4"
  }
 },
 "nbformat": 4,
 "nbformat_minor": 2
}
